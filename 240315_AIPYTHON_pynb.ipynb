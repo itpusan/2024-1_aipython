{
  "nbformat": 4,
  "nbformat_minor": 0,
  "metadata": {
    "colab": {
      "provenance": []
    },
    "kernelspec": {
      "name": "python3",
      "display_name": "Python 3"
    },
    "language_info": {
      "name": "python"
    }
  },
  "cells": [
    {
      "cell_type": "markdown",
      "source": [
        "#####두수를 입력받아서 합을 출력하는 프로그램"
      ],
      "metadata": {
        "id": "SGlIzY8g_y_m"
      }
    },
    {
      "cell_type": "code",
      "execution_count": 1,
      "metadata": {
        "colab": {
          "base_uri": "https://localhost:8080/"
        },
        "id": "PV_g33HD-i5P",
        "outputId": "61e25115-160a-4e5e-a202-f774ace4e742"
      },
      "outputs": [
        {
          "output_type": "stream",
          "name": "stdout",
          "text": [
            "두 정수 A와 B를 입력하세요: 1 2\n",
            "두 정수의 합은: 3\n"
          ]
        }
      ],
      "source": [
        "A, B = map(int, input(\"두 정수 A와 B를 입력하세요: \").split())\n",
        "result = A + B\n",
        "print(\"두 정수의 합은:\", result)"
      ]
    },
    {
      "cell_type": "code",
      "source": [
        "print(\"Hello Python\")"
      ],
      "metadata": {
        "colab": {
          "base_uri": "https://localhost:8080/"
        },
        "id": "Qs8eI31g_d7P",
        "outputId": "9ccaca39-6e19-4068-bb7d-427fc36170a6"
      },
      "execution_count": 3,
      "outputs": [
        {
          "output_type": "stream",
          "name": "stdout",
          "text": [
            "Hello Python\n"
          ]
        }
      ]
    },
    {
      "cell_type": "code",
      "source": [],
      "metadata": {
        "id": "i6bxHR5W_k7Y"
      },
      "execution_count": null,
      "outputs": []
    }
  ]
}