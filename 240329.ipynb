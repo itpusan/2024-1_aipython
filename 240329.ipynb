{
  "nbformat": 4,
  "nbformat_minor": 0,
  "metadata": {
    "colab": {
      "provenance": []
    },
    "kernelspec": {
      "name": "python3",
      "display_name": "Python 3"
    },
    "language_info": {
      "name": "python"
    }
  },
  "cells": [
    {
      "cell_type": "markdown",
      "source": [
        "1. **분을 입력받아서 시간과 분을 출력하시**오 (.format 메소드 활용)\n",
        "\n",
        "   *출력 예) 100 -> 1시간 40분*"
      ],
      "metadata": {
        "id": "fluXm7kcFjjS"
      }
    },
    {
      "cell_type": "code",
      "execution_count": 7,
      "metadata": {
        "colab": {
          "base_uri": "https://localhost:8080/"
        },
        "id": "IWdiidc7CCaD",
        "outputId": "df92292a-96af-4963-9a98-42ecf0dda5ef"
      },
      "outputs": [
        {
          "output_type": "stream",
          "name": "stdout",
          "text": [
            "분을 입력하시오900\n",
            "900 -> 15시간 0분\n"
          ]
        }
      ],
      "source": [
        "in_m=int(input(\"분을 입력하시오\"))\n",
        "h=in_m//60\n",
        "m=in_m%60\n",
        "print(\"{:d} -> {:d}시간 {:d}분\".format(in_m,h,m) )"
      ]
    },
    {
      "cell_type": "markdown",
      "source": [
        "2. **섭씨 온도를 입력받아서 화씨온도를 출력하시오** (% 연산자 활용)\n",
        "  \n",
        "  *출력 예) 섭씨 31도는 화씨 87.8도 입니다.*\n",
        "\n",
        "   계산식) F = C x 1.8 + 32"
      ],
      "metadata": {
        "id": "BofzT53PFn5Y"
      }
    },
    {
      "cell_type": "code",
      "source": [
        "c_t=int(input(\"섭씨 온도를 입력하시오\"))\n",
        "f_t=c_t * 1.8 + 32\n",
        "print(\"섭씨 %d 도는 화씨 %.1f도 입니다.\" % (c_t, f_t))"
      ],
      "metadata": {
        "colab": {
          "base_uri": "https://localhost:8080/"
        },
        "id": "h9g0ZoC-Cyt4",
        "outputId": "c06f8c1e-47cc-4ce1-b1ba-85b556db58f0"
      },
      "execution_count": 10,
      "outputs": [
        {
          "output_type": "stream",
          "name": "stdout",
          "text": [
            "섭씨 온도를 입력하시오18\n",
            "섭씨 18 도는 화씨 64.4도 입니다.\n"
          ]
        }
      ]
    },
    {
      "cell_type": "markdown",
      "source": [
        "3. **원의 반지름을 입력받아서 원의 둘레와 면적을 출력하시오**.(PI=3.14)\n",
        "  \n",
        "  출력 예) 반지름이 15 인 원의 둘레 942.이고 면적은 706.5 입이다."
      ],
      "metadata": {
        "id": "lY-fG9WUFq7Y"
      }
    },
    {
      "cell_type": "code",
      "source": [
        "PI=3.14\n",
        "r=int(input(\"원의 반지름을 입력하시오\"))\n",
        "circumference = 2 * PI * r\n",
        "area = PI * (r ** 2)\n",
        "print(\"반지름이 {}인 원의 둘레 {} 이고 면적은 {} 입니다.\".format(r,circumference,area))"
      ],
      "metadata": {
        "colab": {
          "base_uri": "https://localhost:8080/"
        },
        "id": "Ce4NW-KeDnYa",
        "outputId": "e147d0d3-978e-4759-d4a6-c4d4d4cedc3c"
      },
      "execution_count": 11,
      "outputs": [
        {
          "output_type": "stream",
          "name": "stdout",
          "text": [
            "원의 반지름을 입력하시오10\n",
            "반지름이 10인 원의 둘레 62.800000000000004 이고 면적은 314.0 입니다.\n"
          ]
        }
      ]
    }
  ]
}